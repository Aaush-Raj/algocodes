{
 "cells": [
  {
   "cell_type": "code",
   "execution_count": null,
   "id": "ef2acd25",
   "metadata": {},
   "outputs": [],
   "source": [
    "import pyotp\n",
    "authkey = pyotp.TOTP(‘TOTP CODE’)\n",
    "factor2=authkey.now()\n",
    "\n"
   ]
  },
  {
   "cell_type": "code",
   "execution_count": 3,
   "id": "3c600386",
   "metadata": {},
   "outputs": [
    {
     "name": "stdout",
     "output_type": "stream",
     "text": [
      "19226.55\n"
     ]
    }
   ],
   "source": [
    "import datetime\n",
    "X = {'NSE:NIFTY FIN SERVICE': {'instrument_token': 257801, 'tradingsymbol': 'NIFTY FIN SERVICE', 'timestamp': datetime.datetime(2022, 11, 30, 12, 47, 31), 'last_price': 19226.55, 'net_change': -4.9, 'ohlc': {'open': 19266.7, 'high': 19325.6, 'low': 19197.55, 'close': 19231.45}}}\n",
    "print(X['NSE:NIFTY FIN SERVICE']['last_price'])"
   ]
  },
  {
   "cell_type": "code",
   "execution_count": null,
   "id": "8308e480",
   "metadata": {},
   "outputs": [],
   "source": [
    "\n",
    "nifty_data = kite.quote('NSE:NIFTY 50')\n",
    "LTP = nifty_data['NSE:NIFTY 50']['last_price']\n",
    "print(\"LTP OF NIFTY IS--->\"LTP)\n",
    "\n",
    "print(kite.quote('NSE:NIFTY BANK'))\n",
    "print(kite.quote('NSE:NIFTY FIN SERVICE'))"
   ]
  },
  {
   "cell_type": "code",
   "execution_count": null,
   "id": "eb13128e",
   "metadata": {},
   "outputs": [],
   "source": [
    "def get_symbols(expiry, name, strike, ins_type):\n",
    "    global instrumentList\n",
    "    \n",
    "    if instrumentList is None:\n",
    "        instrumentList = kite.instrument('NFO')\n",
    "        \n",
    "    lst_b = [num for num in instrumentList if num['expiry']== expiry and num['strike'] == strike and num['instrument_type'] == ins_type and num['name']==name]\n",
    "    \n",
    "    return lst_b[0]['tradingsymbol']\n",
    "\n",
    "next_exp = datetime.today()+ relativedelta(weekday=TH(1))\n",
    "symbol_ce = get_symbols(next_exp.date(),'NIFTY',LTP,'CE')"
   ]
  },
  {
   "cell_type": "code",
   "execution_count": 5,
   "id": "9a3e6d1f",
   "metadata": {},
   "outputs": [
    {
     "name": "stdout",
     "output_type": "stream",
     "text": [
      "96\n"
     ]
    }
   ],
   "source": [
    "y = {'NFO:NIFTY22D0118600CE': {'instrument_token': 12814850, 'timestamp': datetime.datetime(2022, 11, 30, 13, 13, 5), 'last_trade_time': datetime.datetime(2022, 11, 30, 13, 13, 5), 'last_price': 96, 'last_quantity': 100, 'buy_quantity': 873750, 'sell_quantity': 964750, 'volume': 87053300, 'average_price': 81.36, 'oi': 6849450, 'oi_day_high': 8307150, 'oi_day_low': 5735300, 'net_change': 0, 'lower_circuit_limit': 0.05, 'upper_circuit_limit': 505.7, 'ohlc': {'open': 71.45, 'high': 99.9, 'low': 63.6, 'close': 72.25}, 'depth': {'buy': [{'price': 96, 'quantity': 400, 'orders': 3}, {'price': 95.95, 'quantity': 1000, 'orders': 7}, {'price': 95.9, 'quantity': 2100, 'orders': 18}, {'price': 95.85, 'quantity': 1850, 'orders': 11}, {'price': 95.8, 'quantity': 7000, 'orders': 15}], 'sell': [{'price': 96.2, 'quantity': 2750, 'orders': 7}, {'price': 96.25, 'quantity': 3400, 'orders': 11}, {'price': 96.3, 'quantity': 6850, 'orders': 17}, {'price': 96.35, 'quantity': 1450, 'orders': 6}, {'price': 96.4, 'quantity': 3500, 'orders': 20}]}}}\n",
    "print(y['NFO:NIFTY22D0118600CE']['last_price'])"
   ]
  },
  {
   "cell_type": "code",
   "execution_count": null,
   "id": "1853c15b",
   "metadata": {},
   "outputs": [],
   "source": [
    "import logging\n",
    "from kiteconnect import KiteConnect\n",
    "from dateutil.relativedelta import relativedelta, TH\n",
    "from datetime import datetime\n",
    "logging.basicConfig(level=logging.DEBUG)\n",
    "api_key = 'fk507pxvttflpdew'\n",
    "secret_key = 'ck5cg6d7b1y7mzts9oqdafc0rg9lafku'\n",
    "request_key = '6VfDZz1UV0KowNvY2WZYbbaArb2R19jZ'\n",
    "\n",
    "kite = KiteConnect(api_key=api_key)\n",
    "print(kite.login_url())\n",
    "print(kite)\n",
    "print(\"done\")\n",
    "\n",
    "\n",
    "# data = kite.generate_session('yFyGlQPy5W3R1OdVE7Un8hFhSvyLdF7p', api_secret=secret_key)\n",
    "# print(data)\n",
    "# ljQtBjdmlyN972abx9A3x918xuV9SbOF\n",
    "kite.set_access_token('N9dYzPVA37CV6A9apjBFBEOT1FWLGEOk')\n",
    "\n",
    "# order_id = kite.place_order(tradingsymbol=\"INFY\",\n",
    "#                                 exchange=kite.EXCHANGE_NSE,\n",
    "#                                 transaction_type=kite.TRANSACTION_TYPE_BUY,\n",
    "#                                 quantity=1,\n",
    "#                                 variety=kite.VARIETY_AMO,\n",
    "#                                 order_type=kite.ORDER_TYPE_MARKET,\n",
    "#                                 product=kite.PRODUCT_CNC,\n",
    "#                                 validity=kite.VALIDITY_DAY)\n",
    "\n",
    "# print(order_id)\n",
    "# 221127500003056\n",
    "\n",
    "# print(kite.orders())\n",
    "print(\"-------------------------------------------------------\")\n",
    "# oh = kite.order_history('221127500003056')\n",
    "# print(oh)\n",
    "# print(type(oh))\n",
    "# print(oh[1]['status'])\n",
    "\n",
    "# print(oh[0]['average_price'])\n",
    "\n",
    "\n",
    "\n",
    "nifty_data = kite.quote('NSE:NIFTY 50')\n",
    "LTP = nifty_data['NSE:NIFTY 50']['last_price']\n",
    "print(\"LTP OF NIFTY IS--->\",LTP)\n",
    "# instrumentList = 0\n",
    "def get_symbols(expiry, name, strike, ins_type):\n",
    "    global instrumentList\n",
    "    instrumentList = kite.instruments('NFO')\n",
    "    lst_b = [num for num in instrumentList if num['expiry']== expiry and num['strike'] == strike and num['instrument_type'] == ins_type and num['name']==name]\n",
    "    print(lst_b)\n",
    "    return lst_b[0]['tradingsymbol']\n",
    "\n",
    "next_exp = datetime.today()+ relativedelta(weekday=TH(1))\n",
    "print(next_exp.date())\n",
    "LTP_TEST = 18600\n",
    "\n",
    "def closest_value(input_list, input_value):\n",
    "    arr = np.asarray(input_list)\n",
    "    i = (np.abs(arr - input_value)).argmin()\n",
    "    return arr[i]\n",
    "\n",
    "ltp_list = []\n",
    "symbol_ce = get_symbols(next_exp.date(),'NIFTY',LTP_TEST,'CE')\n",
    "print(symbol_ce)\n",
    "ltp_ce_data = kite.quote('NFO:'+symbol_ce)\n",
    "print(ltp_ce_data)\n",
    "ltp_ce = ltp_ce_data['NFO:'+symbol_ce]['last_price']\n",
    "print(ltp_ce)\n",
    "print(symbol_ce)\n",
    "\n",
    "\n",
    "# print(kite.quote('NSE:NIFTY BANK'))\n",
    "# print(kite.quote('NSE:NIFTY FIN SERVICE'))"
   ]
  },
  {
   "cell_type": "code",
   "execution_count": 6,
   "id": "cbaab25f",
   "metadata": {},
   "outputs": [
    {
     "ename": "IndentationError",
     "evalue": "expected an indented block (<ipython-input-6-3a72b49fd168>, line 3)",
     "output_type": "error",
     "traceback": [
      "\u001b[1;36m  File \u001b[1;32m\"<ipython-input-6-3a72b49fd168>\"\u001b[1;36m, line \u001b[1;32m3\u001b[0m\n\u001b[1;33m    ltp_list = []\u001b[0m\n\u001b[1;37m    ^\u001b[0m\n\u001b[1;31mIndentationError\u001b[0m\u001b[1;31m:\u001b[0m expected an indented block\n"
     ]
    }
   ],
   "source": [
    "def get_ce_strike(selected_inst):\n",
    "    curr_strike = 18500\n",
    "    ltp_list = []\n",
    "    ltp_strike = {}\n",
    "    if selected_inst == 'BANKNIFTY':\n",
    "        jump = 100\n",
    "    else:\n",
    "        jump = 50\n",
    "\n",
    "    for i in range(10):\n",
    "        curr_strike += jump\n",
    "        symbol_ce = get_symbols(next_exp.date(),'NIFTY',curr_strike,'CE')\n",
    "        ltp_ce_data = kite.quote('NFO:'+symbol_ce)\n",
    "        ltp_ce = ltp_ce_data['NFO:'+symbol_ce]['last_price']\n",
    "        ltp_strike[ltp_ce] = curr_strike\n",
    "        ltp_list.append(ltp_ce)\n",
    "    \n",
    "    closest_ce = closest_value(ltp_list,ce_value)\n",
    "    closest_ce_strike = ltp_strike[closest_ce]\n",
    "    return closest_ce_strike\n",
    "\n",
    "\n",
    "\n",
    "\n",
    "print(symbol_ce)\n",
    "print(ltp_ce_data)\n",
    "print(ltp_ce)\n",
    "print(symbol_ce)\n"
   ]
  },
  {
   "cell_type": "code",
   "execution_count": 50,
   "id": "8d37082b",
   "metadata": {},
   "outputs": [
    {
     "name": "stdout",
     "output_type": "stream",
     "text": [
      "18700\n"
     ]
    }
   ],
   "source": [
    "curr_ltp = 18695\n",
    "x = int(round(curr_ltp/50)*50)\n",
    "print(x)"
   ]
  },
  {
   "cell_type": "code",
   "execution_count": 26,
   "id": "a6a5e649",
   "metadata": {},
   "outputs": [
    {
     "name": "stdout",
     "output_type": "stream",
     "text": [
      "2022-12-01\n"
     ]
    }
   ],
   "source": [
    "from dateutil.relativedelta import relativedelta, TH\n",
    "from datetime import datetime\n",
    "next_exp = (datetime.today()+ relativedelta(weekday=TH(1))).date()\n",
    "print(next_exp)\n",
    "# print(next_exp.date())"
   ]
  },
  {
   "cell_type": "code",
   "execution_count": 51,
   "id": "2e5e11fb",
   "metadata": {},
   "outputs": [
    {
     "ename": "SyntaxError",
     "evalue": "invalid syntax (<ipython-input-51-ce34e31c85c1>, line 4)",
     "output_type": "error",
     "traceback": [
      "\u001b[1;36m  File \u001b[1;32m\"<ipython-input-51-ce34e31c85c1>\"\u001b[1;36m, line \u001b[1;32m4\u001b[0m\n\u001b[1;33m    ce_percent_check = 75\u001b[0m\n\u001b[1;37m    ^\u001b[0m\n\u001b[1;31mSyntaxError\u001b[0m\u001b[1;31m:\u001b[0m invalid syntax\n"
     ]
    }
   ],
   "source": [
    "straddle_premium = 100\n",
    "\n"
   ]
  },
  {
   "cell_type": "code",
   "execution_count": 64,
   "id": "368e517a",
   "metadata": {},
   "outputs": [
    {
     "name": "stdout",
     "output_type": "stream",
     "text": [
      "0.75\n",
      "75\n"
     ]
    }
   ],
   "source": [
    "x = 75\n",
    "y= (x/100)\n",
    "print(y)\n",
    "z = 100*y\n",
    "print(round(z))"
   ]
  },
  {
   "cell_type": "code",
   "execution_count": 68,
   "id": "7bb9a0a2",
   "metadata": {},
   "outputs": [
    {
     "name": "stdout",
     "output_type": "stream",
     "text": [
      "AAYUSH\n",
      "RAJ\n"
     ]
    }
   ],
   "source": [
    "def test():\n",
    "    x = \"AAYUSH\"\n",
    "    y = \"RAJ\"\n",
    "    return x,y\n",
    "\n",
    "a,b = test()\n",
    "print(a)\n",
    "print(b)"
   ]
  },
  {
   "cell_type": "code",
   "execution_count": null,
   "id": "7048cf3a",
   "metadata": {},
   "outputs": [],
   "source": [
    "kite.place_order(variety=kite.VARIETY_REGULAR,\n",
    "                exchange=KiteConnect.EXCHANGE_NFO,\n",
    "                tradingsymbol=tradingSymbol,\n",
    "                transaction_type =kite.TRANSACTION_TYPE_SELL,\n",
    "                quantity = qty,\n",
    "                price=None,\n",
    "                product=KiteConnect.PRODUCT_MIS,\n",
    "                order_type=KiteConnect.ORDER_TYPE_MARKET)"
   ]
  },
  {
   "cell_type": "code",
   "execution_count": 74,
   "id": "decded36",
   "metadata": {},
   "outputs": [
    {
     "name": "stdout",
     "output_type": "stream",
     "text": [
      "Execution time: 0.0 seconds\n"
     ]
    }
   ],
   "source": [
    "import time\n",
    "\n",
    "st = time.time()\n",
    "et = time.time()\n",
    "\n",
    "elapsed_time = et - st\n",
    "print('Execution time:', elapsed_time, 'seconds')"
   ]
  },
  {
   "cell_type": "code",
   "execution_count": 77,
   "id": "c91103f3",
   "metadata": {},
   "outputs": [
    {
     "name": "stdout",
     "output_type": "stream",
     "text": [
      "{'instrument_token': 22098178, 'timestamp': datetime.datetime(2022, 12, 1, 16, 55, 36), 'last_trade_time': datetime.datetime(2022, 12, 1, 15, 10, 24), 'last_price': 4.75, 'last_quantity': 50, 'buy_quantity': 12100, 'sell_quantity': 750, 'volume': 1750, 'average_price': 4.77, 'oi': 43950, 'oi_day_high': 44200, 'oi_day_low': 43800, 'net_change': 0, 'lower_circuit_limit': 1.65, 'upper_circuit_limit': 7.65, 'ohlc': {'open': 4.9, 'high': 7, 'low': 4.2, 'close': 4.95}, 'depth': {'buy': [{'price': 4.4, 'quantity': 550, 'orders': 2}, {'price': 4.25, 'quantity': 1500, 'orders': 1}, {'price': 4.2, 'quantity': 250, 'orders': 1}, {'price': 4.1, 'quantity': 100, 'orders': 2}, {'price': 3.7, 'quantity': 150, 'orders': 1}], 'sell': [{'price': 6.8, 'quantity': 100, 'orders': 1}, {'price': 6.9, 'quantity': 600, 'orders': 1}, {'price': 7.95, 'quantity': 50, 'orders': 1}, {'price': 0, 'quantity': 0, 'orders': 0}, {'price': 0, 'quantity': 0, 'orders': 0}]}}\n"
     ]
    }
   ],
   "source": [
    "import datetime\n",
    "x = {'NFO:NIFTY22DEC15800PE': {'instrument_token': 22098178, 'timestamp': datetime.datetime(2022, 12, 1, 16, 55, 36), 'last_trade_time': datetime.datetime(2022, 12, 1, 15, 10, 24), 'last_price': 4.75, 'last_quantity': 50, 'buy_quantity': 12100, 'sell_quantity': 750, 'volume': 1750, 'average_price': 4.77, 'oi': 43950, 'oi_day_high': 44200, 'oi_day_low': 43800, 'net_change': 0, 'lower_circuit_limit': 1.65, 'upper_circuit_limit': 7.65, 'ohlc': {'open': 4.9, 'high': 7, 'low': 4.2, 'close': 4.95}, 'depth': {'buy': [{'price': 4.4, 'quantity': 550, 'orders': 2}, {'price': 4.25, 'quantity': 1500, 'orders': 1}, {'price': 4.2, 'quantity': 250, 'orders': 1}, {'price': 4.1, 'quantity': 100, 'orders': 2}, {'price': 3.7, 'quantity': 150, 'orders': 1}], 'sell': [{'price': 6.8, 'quantity': 100, 'orders': 1}, {'price': 6.9, 'quantity': 600, 'orders': 1}, {'price': 7.95, 'quantity': 50, 'orders': 1}, {'price': 0, 'quantity': 0, 'orders': 0}, {'price': 0, 'quantity': 0, 'orders': 0}]}}}\n",
    "print(x['NFO:NIFTY22DEC15800PE'])"
   ]
  },
  {
   "cell_type": "code",
   "execution_count": 100,
   "id": "aea43030",
   "metadata": {},
   "outputs": [
    {
     "name": "stdout",
     "output_type": "stream",
     "text": [
      "10000\n",
      "10500\n",
      "10900\n",
      "11000\n",
      "11000\n",
      "11100\n",
      "11200\n",
      "11300\n",
      "11400\n",
      "11500\n",
      "11500\n",
      "11600\n",
      "11700\n",
      "11800\n",
      "11900\n",
      "12000\n",
      "12000\n",
      "12100\n",
      "12200\n",
      "12300\n",
      "12500\n",
      "12600\n",
      "12700\n",
      "12800\n",
      "12900\n",
      "13000\n",
      "13000\n",
      "13100\n",
      "13500\n",
      "13500\n",
      "14000\n",
      "14000\n",
      "14100\n",
      "14100\n",
      "14500\n",
      "14500\n",
      "15000\n",
      "15000\n",
      "15300\n",
      "15300\n",
      "15350\n",
      "15350\n",
      "15400\n",
      "15400\n",
      "15450\n",
      "15450\n",
      "15500\n",
      "15500\n",
      "15550\n",
      "15550\n",
      "15600\n",
      "15600\n",
      "15650\n",
      "15650\n",
      "15700\n",
      "15700\n",
      "15750\n",
      "15750\n",
      "15800\n",
      "15800\n",
      "15850\n",
      "15850\n",
      "15900\n",
      "15900\n",
      "15950\n",
      "15950\n",
      "16000\n",
      "16000\n",
      "16050\n",
      "16050\n",
      "16100\n",
      "16100\n",
      "16150\n",
      "16150\n",
      "16200\n",
      "16200\n",
      "16250\n",
      "16250\n",
      "16300\n",
      "16300\n",
      "16350\n",
      "16350\n",
      "16400\n",
      "16400\n",
      "16450\n",
      "16450\n",
      "16500\n",
      "16500\n",
      "16550\n",
      "16550\n",
      "16600\n",
      "16600\n",
      "16650\n",
      "16650\n",
      "16700\n",
      "16700\n",
      "16750\n",
      "16750\n",
      "16800\n",
      "16800\n",
      "16850\n",
      "16850\n",
      "16900\n",
      "16900\n",
      "16950\n",
      "16950\n",
      "17000\n",
      "17000\n",
      "17050\n",
      "17050\n",
      "17100\n",
      "17100\n",
      "17150\n",
      "17150\n",
      "17200\n",
      "17200\n",
      "17250\n",
      "17250\n",
      "17300\n",
      "17300\n",
      "17350\n",
      "17350\n",
      "17400\n",
      "17400\n",
      "17450\n",
      "17450\n",
      "17500\n",
      "17500\n",
      "17550\n",
      "17550\n",
      "17600\n",
      "17600\n",
      "17650\n",
      "17650\n",
      "17700\n",
      "17700\n",
      "17750\n",
      "17750\n",
      "17800\n",
      "17800\n",
      "17850\n",
      "17850\n",
      "17900\n",
      "17900\n",
      "17950\n",
      "17950\n",
      "18000\n",
      "18000\n",
      "18050\n",
      "18050\n",
      "18100\n",
      "18100\n",
      "18150\n",
      "18150\n",
      "18200\n",
      "18200\n",
      "18250\n",
      "18250\n",
      "18300\n",
      "18300\n",
      "18350\n",
      "18350\n",
      "18400\n",
      "18400\n",
      "18450\n",
      "18450\n",
      "18500\n",
      "18500\n",
      "18550\n",
      "18550\n",
      "18600\n",
      "18600\n",
      "18650\n",
      "18650\n",
      "18700\n",
      "18700\n",
      "18750\n",
      "18750\n",
      "18800\n",
      "18800\n",
      "18850\n",
      "18850\n",
      "18900\n",
      "18900\n",
      "18950\n",
      "18950\n",
      "19000\n",
      "19000\n",
      "19050\n",
      "19050\n",
      "19100\n",
      "19100\n",
      "19150\n",
      "19150\n",
      "19200\n",
      "19200\n",
      "19250\n",
      "19250\n",
      "19300\n",
      "19300\n",
      "19350\n",
      "19350\n",
      "19400\n",
      "19400\n",
      "19450\n",
      "19450\n",
      "19500\n",
      "19500\n",
      "19550\n",
      "19550\n",
      "19600\n",
      "19600\n",
      "19650\n",
      "19650\n",
      "19700\n",
      "19700\n",
      "19750\n",
      "19750\n",
      "19800\n",
      "19800\n",
      "19850\n",
      "19850\n",
      "19900\n",
      "19900\n",
      "19950\n",
      "19950\n",
      "20000\n",
      "20000\n",
      "20050\n",
      "20050\n",
      "20100\n",
      "20100\n",
      "20150\n",
      "20150\n",
      "20200\n",
      "20200\n",
      "20250\n",
      "20250\n",
      "20300\n",
      "20300\n",
      "20500\n",
      "21000\n",
      "21000\n",
      "22000\n",
      "22000\n",
      "23000\n",
      "23000\n",
      "C7500\n",
      "C8500\n",
      "C8700\n",
      "C9000\n",
      "C9500\n",
      "C9700\n",
      "C9900\n"
     ]
    }
   ],
   "source": [
    "x = ['NFO:NIFTY22DEC10000PE', 'NFO:NIFTY22DEC10500PE', 'NFO:NIFTY22DEC10900PE', 'NFO:NIFTY22DEC11000CE', 'NFO:NIFTY22DEC11000PE', 'NFO:NIFTY22DEC11100PE', 'NFO:NIFTY22DEC11200PE', 'NFO:NIFTY22DEC11300PE', 'NFO:NIFTY22DEC11400PE', 'NFO:NIFTY22DEC11500CE', 'NFO:NIFTY22DEC11500PE', 'NFO:NIFTY22DEC11600PE', 'NFO:NIFTY22DEC11700PE', 'NFO:NIFTY22DEC11800PE', 'NFO:NIFTY22DEC11900PE', 'NFO:NIFTY22DEC12000CE', 'NFO:NIFTY22DEC12000PE', 'NFO:NIFTY22DEC12100PE', 'NFO:NIFTY22DEC12200PE', 'NFO:NIFTY22DEC12300PE', 'NFO:NIFTY22DEC12500PE', 'NFO:NIFTY22DEC12600PE', 'NFO:NIFTY22DEC12700PE', 'NFO:NIFTY22DEC12800PE', 'NFO:NIFTY22DEC12900PE', 'NFO:NIFTY22DEC13000CE', 'NFO:NIFTY22DEC13000PE', 'NFO:NIFTY22DEC13100PE', 'NFO:NIFTY22DEC13500CE', 'NFO:NIFTY22DEC13500PE', 'NFO:NIFTY22DEC14000CE', 'NFO:NIFTY22DEC14000PE', 'NFO:NIFTY22DEC14100CE', 'NFO:NIFTY22DEC14100PE', 'NFO:NIFTY22DEC14500CE', 'NFO:NIFTY22DEC14500PE', 'NFO:NIFTY22DEC15000CE', 'NFO:NIFTY22DEC15000PE', 'NFO:NIFTY22DEC15300CE', 'NFO:NIFTY22DEC15300PE', 'NFO:NIFTY22DEC15350CE', 'NFO:NIFTY22DEC15350PE', 'NFO:NIFTY22DEC15400CE', 'NFO:NIFTY22DEC15400PE', 'NFO:NIFTY22DEC15450CE', 'NFO:NIFTY22DEC15450PE', 'NFO:NIFTY22DEC15500CE', 'NFO:NIFTY22DEC15500PE', 'NFO:NIFTY22DEC15550CE', 'NFO:NIFTY22DEC15550PE', 'NFO:NIFTY22DEC15600CE', 'NFO:NIFTY22DEC15600PE', 'NFO:NIFTY22DEC15650CE', 'NFO:NIFTY22DEC15650PE', 'NFO:NIFTY22DEC15700CE', 'NFO:NIFTY22DEC15700PE', 'NFO:NIFTY22DEC15750CE', 'NFO:NIFTY22DEC15750PE', 'NFO:NIFTY22DEC15800CE', 'NFO:NIFTY22DEC15800PE', 'NFO:NIFTY22DEC15850CE', 'NFO:NIFTY22DEC15850PE', 'NFO:NIFTY22DEC15900CE', 'NFO:NIFTY22DEC15900PE', 'NFO:NIFTY22DEC15950CE', 'NFO:NIFTY22DEC15950PE', 'NFO:NIFTY22DEC16000CE', 'NFO:NIFTY22DEC16000PE', 'NFO:NIFTY22DEC16050CE', 'NFO:NIFTY22DEC16050PE', 'NFO:NIFTY22DEC16100CE', 'NFO:NIFTY22DEC16100PE', 'NFO:NIFTY22DEC16150CE', 'NFO:NIFTY22DEC16150PE', 'NFO:NIFTY22DEC16200CE', 'NFO:NIFTY22DEC16200PE', 'NFO:NIFTY22DEC16250CE', 'NFO:NIFTY22DEC16250PE', 'NFO:NIFTY22DEC16300CE', 'NFO:NIFTY22DEC16300PE', 'NFO:NIFTY22DEC16350CE', 'NFO:NIFTY22DEC16350PE', 'NFO:NIFTY22DEC16400CE', 'NFO:NIFTY22DEC16400PE', 'NFO:NIFTY22DEC16450CE', 'NFO:NIFTY22DEC16450PE', 'NFO:NIFTY22DEC16500CE', 'NFO:NIFTY22DEC16500PE', 'NFO:NIFTY22DEC16550CE', 'NFO:NIFTY22DEC16550PE', 'NFO:NIFTY22DEC16600CE', 'NFO:NIFTY22DEC16600PE', 'NFO:NIFTY22DEC16650CE', 'NFO:NIFTY22DEC16650PE', 'NFO:NIFTY22DEC16700CE', 'NFO:NIFTY22DEC16700PE', 'NFO:NIFTY22DEC16750CE', 'NFO:NIFTY22DEC16750PE', 'NFO:NIFTY22DEC16800CE', 'NFO:NIFTY22DEC16800PE', 'NFO:NIFTY22DEC16850CE', 'NFO:NIFTY22DEC16850PE', 'NFO:NIFTY22DEC16900CE', 'NFO:NIFTY22DEC16900PE', 'NFO:NIFTY22DEC16950CE', 'NFO:NIFTY22DEC16950PE', 'NFO:NIFTY22DEC17000CE', 'NFO:NIFTY22DEC17000PE', 'NFO:NIFTY22DEC17050CE', 'NFO:NIFTY22DEC17050PE', 'NFO:NIFTY22DEC17100CE', 'NFO:NIFTY22DEC17100PE', 'NFO:NIFTY22DEC17150CE', 'NFO:NIFTY22DEC17150PE', 'NFO:NIFTY22DEC17200CE', 'NFO:NIFTY22DEC17200PE', 'NFO:NIFTY22DEC17250CE', 'NFO:NIFTY22DEC17250PE', 'NFO:NIFTY22DEC17300CE', 'NFO:NIFTY22DEC17300PE', 'NFO:NIFTY22DEC17350CE', 'NFO:NIFTY22DEC17350PE', 'NFO:NIFTY22DEC17400CE', 'NFO:NIFTY22DEC17400PE', 'NFO:NIFTY22DEC17450CE', 'NFO:NIFTY22DEC17450PE', 'NFO:NIFTY22DEC17500CE', 'NFO:NIFTY22DEC17500PE', 'NFO:NIFTY22DEC17550CE', 'NFO:NIFTY22DEC17550PE', 'NFO:NIFTY22DEC17600CE', 'NFO:NIFTY22DEC17600PE', 'NFO:NIFTY22DEC17650CE', 'NFO:NIFTY22DEC17650PE', 'NFO:NIFTY22DEC17700CE', 'NFO:NIFTY22DEC17700PE', 'NFO:NIFTY22DEC17750CE', 'NFO:NIFTY22DEC17750PE', 'NFO:NIFTY22DEC17800CE', 'NFO:NIFTY22DEC17800PE', 'NFO:NIFTY22DEC17850CE', 'NFO:NIFTY22DEC17850PE', 'NFO:NIFTY22DEC17900CE', 'NFO:NIFTY22DEC17900PE', 'NFO:NIFTY22DEC17950CE', 'NFO:NIFTY22DEC17950PE', 'NFO:NIFTY22DEC18000CE', 'NFO:NIFTY22DEC18000PE', 'NFO:NIFTY22DEC18050CE', 'NFO:NIFTY22DEC18050PE', 'NFO:NIFTY22DEC18100CE', 'NFO:NIFTY22DEC18100PE', 'NFO:NIFTY22DEC18150CE', 'NFO:NIFTY22DEC18150PE', 'NFO:NIFTY22DEC18200CE', 'NFO:NIFTY22DEC18200PE', 'NFO:NIFTY22DEC18250CE', 'NFO:NIFTY22DEC18250PE', 'NFO:NIFTY22DEC18300CE', 'NFO:NIFTY22DEC18300PE', 'NFO:NIFTY22DEC18350CE', 'NFO:NIFTY22DEC18350PE', 'NFO:NIFTY22DEC18400CE', 'NFO:NIFTY22DEC18400PE', 'NFO:NIFTY22DEC18450CE', 'NFO:NIFTY22DEC18450PE', 'NFO:NIFTY22DEC18500CE', 'NFO:NIFTY22DEC18500PE', 'NFO:NIFTY22DEC18550CE', 'NFO:NIFTY22DEC18550PE', 'NFO:NIFTY22DEC18600CE', 'NFO:NIFTY22DEC18600PE', 'NFO:NIFTY22DEC18650CE', 'NFO:NIFTY22DEC18650PE', 'NFO:NIFTY22DEC18700CE', 'NFO:NIFTY22DEC18700PE', 'NFO:NIFTY22DEC18750CE', 'NFO:NIFTY22DEC18750PE', 'NFO:NIFTY22DEC18800CE', 'NFO:NIFTY22DEC18800PE', 'NFO:NIFTY22DEC18850CE', 'NFO:NIFTY22DEC18850PE', 'NFO:NIFTY22DEC18900CE', 'NFO:NIFTY22DEC18900PE', 'NFO:NIFTY22DEC18950CE', 'NFO:NIFTY22DEC18950PE', 'NFO:NIFTY22DEC19000CE', 'NFO:NIFTY22DEC19000PE', 'NFO:NIFTY22DEC19050CE', 'NFO:NIFTY22DEC19050PE', 'NFO:NIFTY22DEC19100CE', 'NFO:NIFTY22DEC19100PE', 'NFO:NIFTY22DEC19150CE', 'NFO:NIFTY22DEC19150PE', 'NFO:NIFTY22DEC19200CE', 'NFO:NIFTY22DEC19200PE', 'NFO:NIFTY22DEC19250CE', 'NFO:NIFTY22DEC19250PE', 'NFO:NIFTY22DEC19300CE', 'NFO:NIFTY22DEC19300PE', 'NFO:NIFTY22DEC19350CE', 'NFO:NIFTY22DEC19350PE', 'NFO:NIFTY22DEC19400CE', 'NFO:NIFTY22DEC19400PE', 'NFO:NIFTY22DEC19450CE', 'NFO:NIFTY22DEC19450PE', 'NFO:NIFTY22DEC19500CE', 'NFO:NIFTY22DEC19500PE', 'NFO:NIFTY22DEC19550CE', 'NFO:NIFTY22DEC19550PE', 'NFO:NIFTY22DEC19600CE', 'NFO:NIFTY22DEC19600PE', 'NFO:NIFTY22DEC19650CE', 'NFO:NIFTY22DEC19650PE', 'NFO:NIFTY22DEC19700CE', 'NFO:NIFTY22DEC19700PE', 'NFO:NIFTY22DEC19750CE', 'NFO:NIFTY22DEC19750PE', 'NFO:NIFTY22DEC19800CE', 'NFO:NIFTY22DEC19800PE', 'NFO:NIFTY22DEC19850CE', 'NFO:NIFTY22DEC19850PE', 'NFO:NIFTY22DEC19900CE', 'NFO:NIFTY22DEC19900PE', 'NFO:NIFTY22DEC19950CE', 'NFO:NIFTY22DEC19950PE', 'NFO:NIFTY22DEC20000CE', 'NFO:NIFTY22DEC20000PE', 'NFO:NIFTY22DEC20050CE', 'NFO:NIFTY22DEC20050PE', 'NFO:NIFTY22DEC20100CE', 'NFO:NIFTY22DEC20100PE', 'NFO:NIFTY22DEC20150CE', 'NFO:NIFTY22DEC20150PE', 'NFO:NIFTY22DEC20200CE', 'NFO:NIFTY22DEC20200PE', 'NFO:NIFTY22DEC20250CE', 'NFO:NIFTY22DEC20250PE', 'NFO:NIFTY22DEC20300CE', 'NFO:NIFTY22DEC20300PE', 'NFO:NIFTY22DEC20500CE', 'NFO:NIFTY22DEC21000CE', 'NFO:NIFTY22DEC21000PE', 'NFO:NIFTY22DEC22000CE', 'NFO:NIFTY22DEC22000PE', 'NFO:NIFTY22DEC23000CE', 'NFO:NIFTY22DEC23000PE', 'NFO:NIFTY22DEC7500PE', 'NFO:NIFTY22DEC8500PE', 'NFO:NIFTY22DEC8700PE', 'NFO:NIFTY22DEC9000PE', 'NFO:NIFTY22DEC9500PE', 'NFO:NIFTY22DEC9700PE', 'NFO:NIFTY22DEC9900PE']\n",
    "pe_list = []\n",
    "ce_list = []\n",
    "for i in x:\n",
    "    print(i[-7:-2])\n",
    "    ce_or_pe = i[-2:]\n",
    "    if ce_or_pe == \"PE\":\n",
    "        pe_list.append(i)\n",
    "    else:\n",
    "        ce_list.append(i)\n",
    "        \n",
    "# print(len(pe_list))\n",
    "# print(len(ce_list))\n",
    "# print(pe_list)\n",
    "# print(ce_list)"
   ]
  },
  {
   "cell_type": "code",
   "execution_count": 99,
   "id": "600959df",
   "metadata": {},
   "outputs": [
    {
     "name": "stdout",
     "output_type": "stream",
     "text": [
      "11000\n",
      "37300\n",
      "19400\n"
     ]
    }
   ],
   "source": [
    "a = 'NFO:NIFTY22DEC11000PE'\n",
    "b = 'NFO:BANKNIFTY22DEC37300CE'\n",
    "c = 'NFO:FINNIFTY22D1319400PE'\n",
    "\n",
    "print(a[-7:-2])\n",
    "print(b[-7:-2])\n",
    "print(c[-7:-2])"
   ]
  },
  {
   "cell_type": "code",
   "execution_count": null,
   "id": "ac4653a9",
   "metadata": {},
   "outputs": [],
   "source": [
    "x = [{'placed_by': 'QI8972', 'order_id': '221204100009383', 'exchange_order_id': None, 'parent_order_id': None, 'status': 'AMO REQ RECEIVED', 'status_message': None, 'status_message_raw': None, 'order_timestamp': datetime.datetime(2022, 12, 4, 21, 25, 24), 'exchange_update_timestamp': None, 'exchange_timestamp': None, 'variety': 'amo', 'modified': False, 'exchange': 'NFO', 'tradingsymbol': 'NIFTY22DEC19250CE', 'instrument_token': 22154498, 'order_type': 'LIMIT', 'transaction_type': 'BUY', 'validity': 'DAY', 'validity_ttl': 0, 'product': 'MIS', 'quantity': 50, 'disclosed_quantity': 0, 'price': 180, 'trigger_price': 0, 'average_price': 0, 'filled_quantity': 0, 'pending_quantity': 50, 'cancelled_quantity': 0, 'market_protection': 0, 'meta': {}, 'tag': None, 'guid': '01XPJcRbG7GSeA4'}]\n",
    "print(x)"
   ]
  },
  {
   "cell_type": "code",
   "execution_count": null,
   "id": "a62cee34",
   "metadata": {},
   "outputs": [],
   "source": [
    "class main_alice_fnc():\n",
    "    \n",
    "    \n",
    "    "
   ]
  }
 ],
 "metadata": {
  "kernelspec": {
   "display_name": "Python 3",
   "language": "python",
   "name": "python3"
  },
  "language_info": {
   "codemirror_mode": {
    "name": "ipython",
    "version": 3
   },
   "file_extension": ".py",
   "mimetype": "text/x-python",
   "name": "python",
   "nbconvert_exporter": "python",
   "pygments_lexer": "ipython3",
   "version": "3.9.6"
  }
 },
 "nbformat": 4,
 "nbformat_minor": 5
}
